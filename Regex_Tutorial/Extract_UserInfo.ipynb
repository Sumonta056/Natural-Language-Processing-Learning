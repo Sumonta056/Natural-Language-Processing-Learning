{
 "cells": [
  {
   "cell_type": "code",
   "execution_count": 243,
   "metadata": {},
   "outputs": [],
   "source": [
    "import re"
   ]
  },
  {
   "cell_type": "code",
   "execution_count": 244,
   "metadata": {},
   "outputs": [],
   "source": [
    "def extract_information_from_text(text):\n",
    "    patterns = {\n",
    "        \"Born\": r\"Born\\s+(.+)\",\n",
    "        \"Age\": r\"age (\\d+)\",\n",
    "        \"Birthday\": r\"Born.*\\n(.*)\\(age\",\n",
    "        \"Birthplace\": r\"\\(age.*\\n(.*)\",\n",
    "        \"Education\": r\"Education\\s+(.+)\",\n",
    "        \"Occupations\": r\"Occupations\\s+(.+)\",\n",
    "        \"Years active\": r\"Years active\\s+(.+)\",\n",
    "        \"Known for\": r\"Known for\\s+(.+)\",\n",
    "        \"Spouse\": r\"Spouse\\s+(.+)\",\n",
    "        \"Children\": r\"Children\\s+(\\d+)\",\n",
    "        \"Parents\": r\"Parents\\s+(.+)\",\n",
    "        \"Awards\": r\"Awards\\s+(.+)\",\n",
    "        \"Website\": r\"Website\\s+(.+)\",\n",
    "    }\n",
    "\n",
    "    info_dict = {}\n",
    "\n",
    "    for key, pattern in patterns.items():\n",
    "        match = re.search(pattern, text)\n",
    "        if match:\n",
    "            info_dict[key] = match.group(1).strip() \n",
    "        else:\n",
    "            info_dict[key] = \"Not Found\"\n",
    "\n",
    "    return info_dict"
   ]
  },
  {
   "cell_type": "code",
   "execution_count": 245,
   "metadata": {},
   "outputs": [
    {
     "name": "stdout",
     "output_type": "stream",
     "text": [
      "Born: William Henry Gates III\n",
      "Age: 68\n",
      "Birthday: October 28, 1955\n",
      "Birthplace: Seattle, Washington, U.S.\n",
      "Education: Harvard University (dropped out)\n",
      "Occupations: Businessmaninvestorphilanthropistwriter\n",
      "Years active: 1972â€“present\n",
      "Known for: Pioneer of the personal computer revolution with Paul Allen\n",
      "Spouse: Melinda French\n",
      "Children: 3\n",
      "Parents: Bill Gates Sr.\n",
      "Awards: Knight Commander of the Order of the British Empire (2005)\n",
      "Website: gatesnotes.com\n",
      "--------------------------------------------------\n",
      "Born: Mark Elliot Zuckerberg\n",
      "Age: 39\n",
      "Birthday: May 14, 1984\n",
      "Birthplace: White Plains, New York, U.S.\n",
      "Education: Harvard University (dropped out)\n",
      "Occupations: Businessmanphilanthropist\n",
      "Years active: 2004â€“present\n",
      "Known for: Not Found\n",
      "Spouse: Priscilla Chan â€‹(m. 2012)â€‹\n",
      "Children: 3\n",
      "Parents: Not Found\n",
      "Awards: Not Found\n",
      "Website: facebook.com/zuck\n",
      "--------------------------------------------------\n",
      "Born: Mukesh Dhirubhai Ambani\n",
      "Age: 66\n",
      "Birthday: 19 April 1957\n",
      "Birthplace: Aden, Colony of Aden\n",
      "Education: Not Found\n",
      "Occupations: Chairman and MD, Reliance Industries\n",
      "Years active: Not Found\n",
      "Known for: Not Found\n",
      "Spouse: Nita Ambani â€‹(m. 1985)â€‹[3]\n",
      "Children: 3\n",
      "Parents: Dhirubhai Ambani (father)\n",
      "Awards: Not Found\n",
      "Website: Not Found\n",
      "--------------------------------------------------\n"
     ]
    }
   ],
   "source": [
    "import os\n",
    "\n",
    "# Define the folder path containing the text files\n",
    "folder_path = './Dataset/UserInfo/'\n",
    "\n",
    "# Iterate over the files in the folder\n",
    "for filename in os.listdir(folder_path):\n",
    "    # Check if the file is a text file\n",
    "    if filename.endswith('.txt'):\n",
    "        # Create the full file path\n",
    "        file_path = os.path.join(folder_path, filename)\n",
    "        \n",
    "        # Read the content of the file\n",
    "        with open(file_path, 'r') as file:\n",
    "            content = file.read()\n",
    "\n",
    "        info = extract_information_from_text(content)\n",
    "\n",
    "\n",
    "        # Create a new file to save the extracted information\n",
    "        folder_path_out =\"./Dataset/ExtractedUserInfo/\"\n",
    "        output_file_path = os.path.join(folder_path_out, f\"{filename.split('.')[0]}_Extracted_Info.txt\")\n",
    "        with open(output_file_path, 'w') as output_file:\n",
    "            # Write the extracted information to the file\n",
    "            for key, value in info.items():\n",
    "                output_file.write(f\"{key}: {value}\\n\")\n",
    "\n",
    "        for key, value in info.items():\n",
    "            print(f\"{key}: {value}\")\n",
    "\n",
    "        print('-' * 50) \n"
   ]
  }
 ],
 "metadata": {
  "kernelspec": {
   "display_name": "venv",
   "language": "python",
   "name": "python3"
  },
  "language_info": {
   "codemirror_mode": {
    "name": "ipython",
    "version": 3
   },
   "file_extension": ".py",
   "mimetype": "text/x-python",
   "name": "python",
   "nbconvert_exporter": "python",
   "pygments_lexer": "ipython3",
   "version": "3.11.2"
  }
 },
 "nbformat": 4,
 "nbformat_minor": 2
}
