{
 "cells": [
  {
   "cell_type": "code",
   "execution_count": 7,
   "metadata": {},
   "outputs": [],
   "source": [
    "import re"
   ]
  },
  {
   "cell_type": "code",
   "execution_count": 8,
   "metadata": {},
   "outputs": [],
   "source": [
    "with open('./Dataset/emailDataset.txt', 'r') as emailDataset:\n",
    "    dataset = emailDataset.readlines()"
   ]
  },
  {
   "cell_type": "markdown",
   "metadata": {},
   "source": [
    "*------ **Email Pattern Regular Expression** ------*"
   ]
  },
  {
   "cell_type": "code",
   "execution_count": 9,
   "metadata": {},
   "outputs": [],
   "source": [
    "email_pattern = r'[A-Za-z0-9._%+-]*@[A-Za-z0-9.-]+\\.[A-Z|a-z]{2,}'\n",
    "emails = []"
   ]
  },
  {
   "cell_type": "code",
   "execution_count": 10,
   "metadata": {},
   "outputs": [
    {
     "name": "stdout",
     "output_type": "stream",
     "text": [
      "Emails found From Dataset\n",
      "john@example.com\n",
      "mary.smith@gmail.com\n",
      "alexander_jones@company.org\n",
      "sara_1990@hotmail.com\n",
      "chris@mydomain.net\n"
     ]
    }
   ],
   "source": [
    "for email in dataset:\n",
    "    matches=re.findall(email_pattern,email)\n",
    "    emails.extend(matches)\n",
    "\n",
    "print(\"Emails found From Dataset\")\n",
    "\n",
    "for email in emails:\n",
    "    print(email)"
   ]
  }
 ],
 "metadata": {
  "kernelspec": {
   "display_name": "venv",
   "language": "python",
   "name": "python3"
  },
  "language_info": {
   "codemirror_mode": {
    "name": "ipython",
    "version": 3
   },
   "file_extension": ".py",
   "mimetype": "text/x-python",
   "name": "python",
   "nbconvert_exporter": "python",
   "pygments_lexer": "ipython3",
   "version": "3.11.2"
  }
 },
 "nbformat": 4,
 "nbformat_minor": 2
}
