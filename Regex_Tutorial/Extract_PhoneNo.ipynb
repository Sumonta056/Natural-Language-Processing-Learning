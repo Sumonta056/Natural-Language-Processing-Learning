{
 "cells": [
  {
   "cell_type": "code",
   "execution_count": 5,
   "metadata": {},
   "outputs": [
    {
     "name": "stdout",
     "output_type": "stream",
     "text": [
      "Phone numbers found from dataset:\n",
      "01845359471\n",
      "01815409791\n",
      "018-4535-9471\n",
      "018-1540-9791\n",
      "8801710-628061\n",
      "8801710628061\n"
     ]
    }
   ],
   "source": [
    "import re\n",
    "\n",
    "# Read the dataset from the file\n",
    "# This code opens the dataset.txt file in read mode ('r') \n",
    "# and reads its content line by line using the readlines() method. \n",
    "# It stores the lines (chats) in the chats list.\n",
    "with open('./Dataset/Numberdataset.txt', 'r') as file:\n",
    "    chats = file.readlines()\n",
    "\n",
    "phone_numbers = []\n",
    "\n",
    "# Regular expression pattern to match phone numbers\n",
    "pattern = r'\\b(?:\\+88|88)?01[3-9][-0-9]{8}\\b|\\d{3}-\\d{4}-\\d{4}|\\b(?:\\+88|88)?01[3-9]\\d{2}-\\d{6}\\b'\n",
    "\n",
    "for chat in chats:\n",
    "    matches = re.findall(pattern, chat)\n",
    "    phone_numbers.extend(matches)\n",
    "\n",
    "print(\"Phone numbers found from dataset:\")\n",
    "for number in phone_numbers:\n",
    "    print(number)\n"
   ]
  }
 ],
 "metadata": {
  "kernelspec": {
   "display_name": "venv",
   "language": "python",
   "name": "python3"
  },
  "language_info": {
   "codemirror_mode": {
    "name": "ipython",
    "version": 3
   },
   "file_extension": ".py",
   "mimetype": "text/x-python",
   "name": "python",
   "nbconvert_exporter": "python",
   "pygments_lexer": "ipython3",
   "version": "3.11.2"
  }
 },
 "nbformat": 4,
 "nbformat_minor": 2
}
